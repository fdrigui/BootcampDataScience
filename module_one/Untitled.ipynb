{
 "cells": [
  {
   "cell_type": "markdown",
   "id": "87055c20",
   "metadata": {},
   "source": [
    "<img src=\"img/BCTheme.png\">\n",
    "<h1><b><span style=\"color:#5C0040\">Projeto Módulo 1:</span></b> Análise dos custos por internação. Comparação entre os Estados da região Sul e Suldeste, e tendência dos resultados</h1>\n",
    "<p><i>Neste projeto queremos que você aplique tudo que aprendeu no curso, analisando uma outra informação referente a base de dados de produção hospitalar, seja número de internação, óbito, dias de permanência, taxa de mortalidade ou outros de sua preferência.</i><p>\n",
    "<a href=\"https://github.com/fdrigui/BootcampDataScience/blob/main/module_one/Project1_Analysis.ipynb\"><b>Notebook de exploração</b></a>"
   ]
  },
  {
   "cell_type": "markdown",
   "id": "333d2b6d",
   "metadata": {},
   "source": [
    "<h2><b><span style=\"color:#5C0040\">Qual estado tem o maior gasto médio por internação entre a região SUL e SUDESTE?</span></b></h2>\n",
    "<img src=\"img/mapa.png\">\n",
    "<p>Os estados da região <span style=\"color:#CFE8F3\"><b>SUDESTE</b></span> são azuis, com destaque especial para <span style=\"color:#1696D2\"><b>São Paulo</b></span>, que é o estado mais populoso e para muitos o estado a ser batido. Já os estados da região <span style=\"color:#F8D5D4\"><b>SUL</b></span> são vermelhos, com destaque especial para <span style=\"color:#DB2B27\"><b>Paraná</b></span> (será que é um spoiler?).</p>\n",
    "<p>O meu <i>initial guess</i> de estado que mais gasta por internção é <span style=\"color:#1696D2\"><b>São Paulo</b></span>. Esse \"chute\" pode ser embasado por falso cognato, e é baseado em alguns pontos que podem ser melhor explorados num segundo momento, mais que não farão parte dessa exploração:<br>\n",
    "    <ul>\n",
    "    <li>O estado de <span style=\"color:#1696D2\"><b>São Paulo</b></span> faz procedimentos hospitalares de maior complexidade (e por sua vez mais caros)</li>\n",
    "    <li>O estado de <span style=\"color:#1696D2\"><b>São Paulo</b></span> atende muitas pessoas de outros estados para procedimentos complexos (e por sua vez aumenta a quantidade de procedimentos mais caros para o estado)</li>\n",
    "    <li>O estado de <span style=\"color:#1696D2\"><b>São Paulo</b></span> remunera melhor os médicos e enfermeiros</li>\n",
    "        </ul></p>\n",
    "<p>Os dados utilizados para a análise foram extraídos do banco de dados nacional do <b>DATASUS</b>, o <i>TABNET</i>. Maiores informações sobre os detalhes da extração, consultar o <b>Notebook de exploração</b></p>"
   ]
  },
  {
   "cell_type": "markdown",
   "id": "327d9ba0",
   "metadata": {},
   "source": [
    "<h2><b><span style=\"color:#5C0040\">Valor total gasto por estado por ano com despesas de internação hospitalares</span></b></h2>\n",
    "<img src=\"img/valor_total_por_uf.png\">\n",
    "<p>Podemos obserar uma <b>tendencia</b> de subida nos valores gasto por internação em todos os estados, com maior ou menor taxa de cresscimento, mais em geral todos os estados mostram um aumento nos gastos (observação gráfica, sem confirmação estatística)</p>\n",
    "<p>Como esperado do estado mais populoso, <span style=\"color:#1696D2\"><b>São Paulo</b></span> gastou no ano de 2019 <b>R$ 291,3 Mi</b> com despesas relacionadas a internações hospitalares, o que significa <b>86%</b> mais do que o segundo colocado, que é o estado de <span style=\"color:#CFE8F3\"><b>Minas Gerais</b></span> é <b>231%</b> a mais do que o nosso querido estado do <span style=\"color:#DB2B27\"><b>Paraná</b></span><p/>\n",
    "\n",
    "<p>A Próxima questão é clara: <b>Claro que <span style=\"color:#1696D2\"><b>São Paulo</b></span> gasta mais com despesas de internação hospitalares, esse é o estado mais populoso! Vamos ver então as internações por estado?</b></p>"
   ]
  },
  {
   "cell_type": "markdown",
   "id": "4087831b",
   "metadata": {},
   "source": [
    "<h2><b><span style=\"color:#5C0040\">Quantidade de Autorização de Internação Hospitalar (AHI) aprovadas por estado e por ano</span></b></h2>\n",
    "<img src=\"img/aih_por_uf.png\">\n",
    "<p>Nesse caso não parece que as Internações Hospitalares (AHI) estão subindo com o passar do tempo assim como vimos no grafico anterior. Aparentemente cada estado tem mantido uma quantidade de internações anual, e o valor vem oscilado em torno do valor médio, mais sem um claro aumento como observado nos gastos. (observação gráfica, sem confirmação estatística)</p>\n",
    "<p>Essa análise levanta duas questões:\n",
    "<ul>\n",
    "    <li>Qual é o valor médio gasto por cada Estado por AIH (Internação)?</li>\n",
    "    <li>Se aparentemente não existe uma tendencia de subida na quantidade de internação por estado, mais existe uma tendência clara de subida nos gastos de cada estado, o valor médio por internação está aumentando com o passar do tempo?</li>\n",
    "</ul></p>"
   ]
  },
  {
   "cell_type": "markdown",
   "id": "27386e5b",
   "metadata": {},
   "source": [
    "<h2><b><span style=\"color:#5C0040\">Valor gasto por internação (AIH)</span></b></h2>\n",
    "<img src=\"img/valor_total_por_aih.png\">\n",
    "<p>Conclusões:\n",
    "<ul>\n",
    "    <li>Os estados do <b>SUL</b> parecem ter um valor médio de internação <b>maiores</b> que os estados do <b>SULDESTE</b></li>\n",
    "    <li>Até <b>2013</b> todos os estados parecem estar crescendo proporcionamente</li>\n",
    "    <li>Após <b>2013</b> todos os estados parecem passar de uma tendencia de subida para uma estabilidade horizontal <b>menos</b> o estado do <span style=\"color:#DB2B27\"><b>Paraná</b></span></li>\n",
    "</ul>\n",
    "</p>\n"
   ]
  },
  {
   "cell_type": "markdown",
   "id": "8d6ba41f",
   "metadata": {},
   "source": [
    "<h2><b><span style=\"color:#5C0040\">Valor gasto por internação (AIH)</span></b></h2>\n",
    "<img src=\"img/custo_medio_por_uf.png\">"
   ]
  },
  {
   "cell_type": "code",
   "execution_count": null,
   "id": "fd93f57d",
   "metadata": {},
   "outputs": [],
   "source": []
  }
 ],
 "metadata": {
  "kernelspec": {
   "display_name": "Python 3",
   "language": "python",
   "name": "python3"
  },
  "language_info": {
   "codemirror_mode": {
    "name": "ipython",
    "version": 3
   },
   "file_extension": ".py",
   "mimetype": "text/x-python",
   "name": "python",
   "nbconvert_exporter": "python",
   "pygments_lexer": "ipython3",
   "version": "3.8.8"
  },
  "toc-autonumbering": false,
  "toc-showcode": false,
  "toc-showmarkdowntxt": true
 },
 "nbformat": 4,
 "nbformat_minor": 5
}
