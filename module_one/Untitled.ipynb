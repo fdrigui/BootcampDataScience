{
 "cells": [
  {
   "cell_type": "markdown",
<<<<<<< HEAD
   "id": "academic-pilot",
   "metadata": {},
   "source": [
    "<img src=\"img/BCTheme.png\">\n",
    "<h1><b><span style=\"color:#5C0040\">Projeto Módulo 1:</span></b> Análise dos custos por internação. Comparação entre os Estados da região Sul e Sudeste, e tendência dos resultados</h1>\n",
    "<p style=\"font-size:18px;\"><i>Neste projeto queremos que você aplique tudo que aprendeu no curso, analisando uma outra informação referente a base de dados de produção hospitalar, seja número de internação, óbito, dias de permanência, taxa de mortalidade ou outros de sua preferência.</i></p>\n",
    "<a style=\"font-size:18px;\" href=\"https://github.com/fdrigui/BootcampDataScience/blob/main/module_one/Project1_Analysis.ipynb\"><b>Notebook de exploração</b></a>\n",
    "\n",
    "Ou então vá direto para a [Conclusão](#conclusao)\n"
=======
   "id": "87055c20",
   "metadata": {},
   "source": [
    "<img src=\"img/BCTheme.png\">\n",
    "<h1><b><span style=\"color:#5C0040\">Projeto Módulo 1:</span></b> Análise dos custos por internação. Comparação entre os Estados da região Sul e Suldeste, e tendência dos resultados</h1>\n",
    "<p><i>Neste projeto queremos que você aplique tudo que aprendeu no curso, analisando uma outra informação referente a base de dados de produção hospitalar, seja número de internação, óbito, dias de permanência, taxa de mortalidade ou outros de sua preferência.</i><p>\n",
    "<a href=\"https://github.com/fdrigui/BootcampDataScience/blob/main/module_one/Project1_Analysis.ipynb\"><b>Notebook de exploração</b></a>"
>>>>>>> fc1bfdbb1be3ce25fb5f01986b957ad0f14a227b
   ]
  },
  {
   "cell_type": "markdown",
<<<<<<< HEAD
   "id": "affected-albania",
   "metadata": {},
   "source": [
    "<h1><b><span style=\"color:#5C0040\">Qual estado tem o maior gasto médio por internação entre a região SUL e SUDESTE?</span></b></h1>\n",
    "<img src=\"img/mapa.png\">\n",
    "<p style=\"font-size:18px;\">Os estados da região <span style=\"color:#CFE8F3\"><b>SUDESTE</b></span> são azuis, com destaque especial para o estado de <span style=\"color:#1696D2\"><b>São Paulo</b></span>.<br>\n",
    "Os estados da região <span style=\"color:#F8D5D4\"><b>SUL</b></span>, por sua ves,  são vermelhos, com destaque especial para o estado do <span style=\"color:#DB2B27\"><b>Paraná</b></span>.<br><span style=\"color:#1696D2\"><b>São Paulo</b></span> e <span style=\"color:#DB2B27\"><b>Paraná</b></span> estão em destaque pois serão os protagonistas da nossa análise. Esses estados são são os mais populosos de suas regiões e trarão luz a pergunta levantada no inicio: <b>Qual estado tem o maior gasto médio por internação entre os estados da região Sul e Sudeste?</b></p>\n",
    "<p style=\"font-size:18px;\">Os dados utilizados para a análise foram extraídos do banco de dados nacional do <b>DATASUS</b>, o <i>TABNET</i>. Maiores informações sobre os detalhes da extração, consultar o <a style=\"font-size:18px;\" href=\"https://github.com/fdrigui/BootcampDataScience/blob/main/module_one/Project1_Analysis.ipynb\"><b>Notebook de exploração</b></a></p>"
=======
   "id": "333d2b6d",
   "metadata": {},
   "source": [
    "<h2><b><span style=\"color:#5C0040\">Qual estado tem o maior gasto médio por internação entre a região SUL e SUDESTE?</span></b></h2>\n",
    "<img src=\"img/mapa.png\">\n",
    "<p>Os estados da região <span style=\"color:#CFE8F3\"><b>SUDESTE</b></span> são azuis, com destaque especial para <span style=\"color:#1696D2\"><b>São Paulo</b></span>, que é o estado mais populoso e para muitos o estado a ser batido. Já os estados da região <span style=\"color:#F8D5D4\"><b>SUL</b></span> são vermelhos, com destaque especial para <span style=\"color:#DB2B27\"><b>Paraná</b></span> (será que é um spoiler?).</p>\n",
    "<p>O meu <i>initial guess</i> de estado que mais gasta por internção é <span style=\"color:#1696D2\"><b>São Paulo</b></span>. Esse \"chute\" pode ser embasado por falso cognato, e é baseado em alguns pontos que podem ser melhor explorados num segundo momento, mais que não farão parte dessa exploração:<br>\n",
    "    <ul>\n",
    "    <li>O estado de <span style=\"color:#1696D2\"><b>São Paulo</b></span> faz procedimentos hospitalares de maior complexidade (e por sua vez mais caros)</li>\n",
    "    <li>O estado de <span style=\"color:#1696D2\"><b>São Paulo</b></span> atende muitas pessoas de outros estados para procedimentos complexos (e por sua vez aumenta a quantidade de procedimentos mais caros para o estado)</li>\n",
    "    <li>O estado de <span style=\"color:#1696D2\"><b>São Paulo</b></span> remunera melhor os médicos e enfermeiros</li>\n",
    "        </ul></p>\n",
    "<p>Os dados utilizados para a análise foram extraídos do banco de dados nacional do <b>DATASUS</b>, o <i>TABNET</i>. Maiores informações sobre os detalhes da extração, consultar o <b>Notebook de exploração</b></p>"
>>>>>>> fc1bfdbb1be3ce25fb5f01986b957ad0f14a227b
   ]
  },
  {
   "cell_type": "markdown",
<<<<<<< HEAD
   "id": "extra-paintball",
=======
   "id": "327d9ba0",
>>>>>>> fc1bfdbb1be3ce25fb5f01986b957ad0f14a227b
   "metadata": {},
   "source": [
    "<h2><b><span style=\"color:#5C0040\">Valor total gasto por estado por ano com despesas de internação hospitalares</span></b></h2>\n",
    "<img src=\"img/valor_total_por_uf.png\">\n",
<<<<<<< HEAD
    "<p style=\"font-size:18px;\">Podemos obserar uma <b>tendencia</b> de subida nos valores gastos por internação em todos os estados, com maior ou menor taxa de cresscimento dependendo do estado. No geral, todos os estados mostraram um aumento nos gastos (observação gráfica, sem confirmação estatística)<br>\n",
    "Como esperado do estado mais populoso, <span style=\"color:#1696D2\"><b>São Paulo</b></span> gastou no ano de <b>2019</b>, em média <b>BRL 291,3 Mi</b> com despesas relacionadas a internações hospitalares (AHI). Isso representa <b>86%</b> a mais do que o segundo colocado, que é o estado de <span style=\"color:#CFE8F3\"><b>Minas Gerais</b></span> e <b>231%</b> a mais do que o estado do <span style=\"color:#DB2B27\"><b>Paraná</b></span><br>\n",
    "A próxima questão a ser respondida é: <b>É esperado que <span style=\"color:#1696D2\"><b>São Paulo</b></span> gasta mais com despesas de internação hospitalares, esse é o estado mais populoso! Vamos ver então como se comportam as internações Hospitalares estado?</b></p>"
   ]
  },
  {
   "cell_type": "markdown",
   "id": "focused-today",
=======
    "<p>Podemos obserar uma <b>tendencia</b> de subida nos valores gasto por internação em todos os estados, com maior ou menor taxa de cresscimento, mais em geral todos os estados mostram um aumento nos gastos (observação gráfica, sem confirmação estatística)</p>\n",
    "<p>Como esperado do estado mais populoso, <span style=\"color:#1696D2\"><b>São Paulo</b></span> gastou no ano de 2019 <b>R$ 291,3 Mi</b> com despesas relacionadas a internações hospitalares, o que significa <b>86%</b> mais do que o segundo colocado, que é o estado de <span style=\"color:#CFE8F3\"><b>Minas Gerais</b></span> é <b>231%</b> a mais do que o nosso querido estado do <span style=\"color:#DB2B27\"><b>Paraná</b></span><p/>\n",
    "\n",
    "<p>A Próxima questão é clara: <b>Claro que <span style=\"color:#1696D2\"><b>São Paulo</b></span> gasta mais com despesas de internação hospitalares, esse é o estado mais populoso! Vamos ver então as internações por estado?</b></p>"
   ]
  },
  {
   "cell_type": "markdown",
   "id": "4087831b",
   "metadata": {},
   "source": [
    "<h2><b><span style=\"color:#5C0040\">Quantidade de Autorização de Internação Hospitalar (AHI) aprovadas por estado e por ano</span></b></h2>\n",
    "<img src=\"img/aih_por_uf.png\">\n",
    "<p>Nesse caso não parece que as Internações Hospitalares (AHI) estão subindo com o passar do tempo assim como vimos no grafico anterior. Aparentemente cada estado tem mantido uma quantidade de internações anual, e o valor vem oscilado em torno do valor médio, mais sem um claro aumento como observado nos gastos. (observação gráfica, sem confirmação estatística)</p>\n",
    "<p>Essa análise levanta duas questões:\n",
    "<ul>\n",
    "    <li>Qual é o valor médio gasto por cada Estado por AIH (Internação)?</li>\n",
    "    <li>Se aparentemente não existe uma tendencia de subida na quantidade de internação por estado, mais existe uma tendência clara de subida nos gastos de cada estado, o valor médio por internação está aumentando com o passar do tempo?</li>\n",
    "</ul></p>"
   ]
  },
  {
   "cell_type": "markdown",
   "id": "27386e5b",
   "metadata": {},
   "source": [
    "<h2><b><span style=\"color:#5C0040\">Valor gasto por internação (AIH)</span></b></h2>\n",
    "<img src=\"img/valor_total_por_aih.png\">\n",
    "<p>Conclusões:\n",
    "<ul>\n",
    "    <li>Os estados do <b>SUL</b> parecem ter um valor médio de internação <b>maiores</b> que os estados do <b>SULDESTE</b></li>\n",
    "    <li>Até <b>2013</b> todos os estados parecem estar crescendo proporcionamente</li>\n",
    "    <li>Após <b>2013</b> todos os estados parecem passar de uma tendencia de subida para uma estabilidade horizontal <b>menos</b> o estado do <span style=\"color:#DB2B27\"><b>Paraná</b></span></li>\n",
    "</ul>\n",
    "</p>\n"
   ]
  },
  {
   "cell_type": "markdown",
   "id": "8d6ba41f",
   "metadata": {},
   "source": [
    "<h2><b><span style=\"color:#5C0040\">Valor gasto por internação (AIH)</span></b></h2>\n",
    "<img src=\"img/custo_medio_por_uf.png\">"
   ]
  },
  {
   "cell_type": "code",
   "execution_count": null,
   "id": "fd93f57d",
>>>>>>> fc1bfdbb1be3ce25fb5f01986b957ad0f14a227b
   "metadata": {},
   "source": [
    "<h2><b><span style=\"color:#5C0040\">Quantidade de Autorização de Internação Hospitalar (AHI) aprovadas por estado e por ano</span></b></h2>\n",
    "<img src=\"img/aih_por_uf.png\">\n",
    "<p style=\"font-size:18px;\">Nesse caso não parece que as Internações Hospitalares (AHI) estão subindo com o passar do tempo assim como vimos no grafico anterior. Aparentemente cada estado tem mantido uma quantidade de internações anual, e o valor vem oscilado em torno do valor médio, mais sem um claro aumento como observado nos gastos (observação gráfica, sem confirmação estatística).<br>\n",
    "<ul style=\"font-size:18px;\">    \n",
    "Essa análise levanta duas questões:\n",
    "    <li>Qual é o valor médio gasto por cada Estado por AIH (Internação)?</li>\n",
    "    <li>Se aparentemente não existe uma tendencia de subida na quantidade de internação por estado, mais existe uma tendência clara de subida nos gastos de cada estado, o valor médio por internação está aumentando com o passar do tempo?</li>\n",
    "</ul></p>"
   ]
  },
  {
   "cell_type": "markdown",
   "id": "turkish-poetry",
   "metadata": {},
   "source": [
    "<h2><b><span style=\"color:#5C0040\">Valor gasto por internação (AIH)</span></b></h2>\n",
    "<img src=\"img/valor_total_por_aih.png\">\n",
    "<p style=\"font-size:18px;\">Conclusões:\n",
    "<ul style=\"font-size:18px;\">\n",
    "    <li>Os estados do <b>SUL</b> parecem ter um valor médio de internação <b>maiores</b> que os estados do <b>SUDESTE</b></li>\n",
    "    <li>Até <b>2013</b> todos os estados parecem estar crescendo proporcionamente</li>\n",
    "    <li>Após <b>2013</b> parecem existir dois comportamentos distintos. Alguns estados deixam de ter uma tendência clara de subida e passam a ter um desloamento horizontal, como é o caso do estado de <span style=\"color:#1696D2\"><b>São Paulo</b></span>, e o estado do <span style=\"color:#DB2B27\"><b>Paraná</b></span> se destaca dos outros como <b>estado que em média mais gasta por internação entre as regiões sul e sudeste</b></li>\n",
    "</ul>\n",
    "</p>"
   ]
  },
  {
   "cell_type": "markdown",
   "id": "individual-diary",
   "metadata": {},
   "source": [
    "<h2><b><span style=\"color:#5C0040\">Valor gasto por internação (AIH) [Média de 2016-2019]</span></b></h2>\n",
    "<img src=\"img/custo_medio_por_uf.png\">\n",
    "<p style=\"font-size:18px;\">O <span style=\"color:#DB2B27\"><b>Paraná</b> (BRL 1.673,42)</span> apresenta um resultado de custo médio por internação cerca de <b>20% MAIOR</b> que o estado de <span style=\"color:#1696D2\"><b>São Paulo</b> (BRL 1.362,52)</span></p>"
   ]
  },
  {
   "cell_type": "markdown",
   "id": "gorgeous-smoke",
   "metadata": {},
   "source": [
    "<h2><b><span style=\"color:#5C0040\">Conseguimos extratificar o valor gasto em alguma sub-categoria?</span></b></h2>\n",
    "<p style=\"font-size:18px;\"> A Resposta é <b>SIM</b>. Existem duas contas que compõem o valor total que é gasto em uma internação, que são:<br>\n",
    "<span style=\"color:#FDBF11\"><b>Serviços Hospitalares (SH):</b></span> Valor gasto com os serviços hospitalares (SH) referente às AIH aprovadas no período. As despesas dos serviços hospitalares incluem: acomodação, locação de sala de cirurgia, locação de leito de UTI, de salas de observação, locação da sala de exames e procedimentos, locação de ambulância e km rodado, locação de necrotério, e assim por diante.<br>\n",
    "<span style=\"color:#EC008B\"><b>Valores Profissionais (SP):</b></span> Valor gasto com os serviços profissionais (SP) referente às AIH aprovadas no período.As despesas profissionais incluem o pagamento de serviços profissionais prestados para a instituição de saúde.<br><br>\n",
    "<span style=\"font-size:14px;font-style: italic\">Nota: O Financiamento, tanto os valores de serviços hospitalares quanto os de serviços profissionais, ainda se sub-dividem em duas contas: <b>Complemento Federal</b> e <b>Complemento do Gestor</b>. O Estudo, apesar de identificar a existencia dessa sub-divisão, se limitou em analisar os serviços <b>hospitalares</b> e <b>profissionais</b> exclusivamente, não se estendendo para os complementos <b>federal</b> e do <b>gestor</b></span>\n",
    "</p>"
   ]
  },
  {
   "cell_type": "markdown",
   "id": "developed-decrease",
   "metadata": {},
   "source": [
    "<h2><b><span style=\"color:#5C0040\">Valor gasto por internação (AIH) [Média de 2016-2019]</span></b></h2>\n",
    "<img src=\"img/aih_por_uf_e_conta.png\">\n",
    "<p style=\"font-size:18px;\">Não parece existir nenhuma anormalidade (em uma análise visual do gráfico) entre a proporção das categorias. <br>O Gráfico abaixo mostra essa propoção entre as duas contas ao longo do tempo.<br>\n",
    "Será que as despesas por<span style=\"color:#FDBF11\">Serviços Hospitalares</span>ou então <span style=\"color:#EC008B\">Serviços Profissionais</span> tem se modificado ao longo do tempo?</p>\n",
    "<img src=\"img/DH_por_DTotal.png\">\n",
    "<p style=\"font-size:18px;\">\n",
    "Podemos observar que a proporção da despesa relacionada com <span style=\"color:#FDBF11\">Serviços Hospitalares</span> pelo montante total gasto por internação se mantem estável ao longo do tempo, numa faixa de <b>80% de SH/STotal</b>, para todos os estados.<br>\n",
    "Relacionando essa informação com o valor gasto por internação, podemos concluír que ambas as contas, tanto de SH quanto de SP tiveram um aumento proporcional no estado do Paraná a partir do ano de <b>2013</b>.</p>"
   ]
  },
  {
   "cell_type": "markdown",
   "id": "exceptional-numbers",
   "metadata": {},
   "source": [
    "<a id='conclusao'></a>\n",
    "<h2><b><span style=\"color:#5C0040\">Conclusão</span></b></h2>\n",
    "<p style=\"font-size:18px;\">\n",
    "O trabalho, em seu nicio, propos uma comparação entre duas regiões do Brasil, sendo elas as regiões <span style=\"color:#F8D5D4\"><b>SUL</b></span> e <span style=\"color:#CFE8F3\"><b>SUDESTE</b></span> no que tange a despesas por internação hospitalar, objetivando não somente a comparação média, mais também levando em conta o histórico de evolução das despesas desde 2008 até 2019. Para facilitar a comparação, um destaque foi dado nas cores do estado de <span style=\"color:#1696D2\"><b>São Paulo</b></span> e do <span style=\"color:#DB2B27\"><b>Paraná</b></span>, para visualizar sob a perspectiva dos estados mais populosos de cada região<br>\n",
    "Foi realizada uma observação dos gastos totais de internação por estado no passar do tempo e se constatou o que era de certa maneira esperado, que o estado de <span style=\"color:#1696D2\"><b>São Paulo</b></span> é o que mais gasta anualmente com despesas relacionadas a internações hospitalares.<br>\n",
    "Em seguida conseguimos observar que o número anual de internações pareceu estavel em todos os estados, visualmente sem uma tendência ou sazonalidade clara. Novamente, o estado de <span style=\"color:#1696D2\"><b>São Paulo</b></span> apresenta o maior número de internações, sendo isso natural, uma vez que esse é o estado com a maior população do Brasil.<br>\n",
    "Se o custo total de internações sobe anualmente e a quantidade de internações se mantem estável por estado e por ano, inferimos que o custo por internação deveria estar subindo, e nós constatamos essa inferencia em seguinda com o gráfico de AHI por estado e ano. Um ainteressante observação foi que 2013 parece ter sido um ano marcante, pois a partir de então, o estado do <span style=\"color:#DB2B27\"><b>Paraná</b></span> começa a se distanciar dos outros estados, com certa notoriedade no que se diz respeito a média de despesas anuais para internações hospitalares. Vimos também que os estados do <span style=\"color:#F8D5D4\"><b>SUL</b></span>, em média tem despesas por internação hospitalares maiores que os estados da reguão <span style=\"color:#CFE8F3\"><b>SUDESTE</b></span>.<br>\n",
    "Foi realizada um mergulho no proximo nível de profundidade dos gastos, comparando o gasto dos <span style=\"color:#FDBF11\"><b>Serviços Hospitalares</b></span> com os <span style=\"color:#EC008B\"><b>Valores Profissionais</b></span>,e observamos que existe uma proporção equilibrada entre todos os estados em torno de 80% do custo total de internação sendo valores de <span style=\"color:#FDBF11\"><b>Serviços Hospitalares</b></span> e os outros 20% de valores gastos com <span style=\"color:#EC008B\"><b>Valores Profissionais</b></span>.<br>\n",
    "    <b>Concluímos então que</b> a região <span style=\"color:#F8D5D4\"><b>SUL</b></span> é a que mais gasta em média por internações hospitalares, com destaque para o estado do <span style=\"color:#DB2B27\"><b>Paraná</b></span>, e que <span style=\"color:#1696D2\"><b>São Paulo</b></span>, mesmo sendo o estado mais populoso do Brasil, não é o estado que em média mais gasta por internação, nem da sua própria região, nem quando comparado com a região <span style=\"color:#F8D5D4\"><b>SUL</b></span>.<br>\n",
    "Alguns pontos ficam em aberto para aqueles que desejam se aprofundar:\n",
    "<ul style=\"font-size:18px;\">\n",
    "    <li>Será que os estados da região <span style=\"color:#F8D5D4\"><b>SUL</b></span> fazem mais procedimentos complexos, e por sua vez mais caros, proporcionalmente ao numero de internações, fazendo o valor médio de internações aumentar?</li>\n",
    "    <li>Será que os estados da região <span style=\"color:#F8D5D4\"><b>SUL</b></span> tem pessoas mais saldáveis, e que por esse motivo não sejam internados com problemas simples, fazendo o valor médio de internações aumentar?</li>\n",
    "    <li>Como são os impostos incidentes sobre as despesas profissionais e hospitalares nos estados das duas regiões?</li>\n",
    "</ul>\n",
    "</p>"
   ]
  }
 ],
 "metadata": {
  "kernelspec": {
   "display_name": "Python 3",
   "language": "python",
   "name": "python3"
  },
  "language_info": {
   "codemirror_mode": {
    "name": "ipython",
    "version": 3
   },
   "file_extension": ".py",
   "mimetype": "text/x-python",
   "name": "python",
   "nbconvert_exporter": "python",
   "pygments_lexer": "ipython3",
   "version": "3.8.8"
  },
  "toc-autonumbering": false,
  "toc-showcode": false,
  "toc-showmarkdowntxt": true
 },
 "nbformat": 4,
 "nbformat_minor": 5
}
