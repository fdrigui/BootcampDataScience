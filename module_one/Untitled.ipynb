{
 "cells": [
  {
   "cell_type": "markdown",
   "id": "unlimited-majority",
   "metadata": {},
   "source": [
    "<img src=\"img/BCTheme.png\">\n",
    "<h1><b><span style=\"color:#5C0040\">Projeto Módulo 1:</span></b> Média do custo de internação por <b>UF</b></h1>\n",
    " <a href=\"https://bootcamps.alura.com.br/course/bootcamp-datascience-modulo1\">Modulo 01: Boorcamp de DataScience Aplicada</a> \n",
    "<p>Neste projeto queremos que você aplique tudo que aprendeu no curso, analisando uma outra informação referente a base de dados de produção hospitalar, seja número de internação, óbito, dias de permanência, taxa de mortalidade ou outros de sua preferência.<p>"
   ]
  },
  {
   "cell_type": "markdown",
   "id": "olive-sauce",
   "metadata": {},
   "source": [
    "<h2><b><span style=\"color:#5C0040\">Descrição Geral</span></b></h2>"
   ]
  },
  {
   "cell_type": "markdown",
   "id": "literary-playing",
   "metadata": {},
   "source": [
    "Utilizando como base os **DATASUS**, pretende-se explorar as relações entre o valor gasto pelo estado e a quantidade de atendimentos realizados, de maneira que se possa identificar quais são os estados com maior valor por internação e os com menor valor por internação. Uma vez claro, o proximo passo consiste em explodir os gastos estaduais em hospitalares e profissionais e ver se essa diferença é resultado de algum fator específico, ou o resultado é multi-fatorial.<br>\n",
    "Entender como os recursos são distribuídos pode ajudar na questão orçamentária dos estados, além de indicar possiveis melhorias"
   ]
  },
  {
   "cell_type": "code",
   "execution_count": null,
   "id": "friendly-kinase",
   "metadata": {},
   "outputs": [],
   "source": []
  }
 ],
 "metadata": {
  "kernelspec": {
   "display_name": "Python 3",
   "language": "python",
   "name": "python3"
  },
  "language_info": {
   "codemirror_mode": {
    "name": "ipython",
    "version": 3
   },
   "file_extension": ".py",
   "mimetype": "text/x-python",
   "name": "python",
   "nbconvert_exporter": "python",
   "pygments_lexer": "ipython3",
   "version": "3.8.8"
  },
  "toc-autonumbering": false,
  "toc-showcode": false,
  "toc-showmarkdowntxt": true
 },
 "nbformat": 4,
 "nbformat_minor": 5
}
