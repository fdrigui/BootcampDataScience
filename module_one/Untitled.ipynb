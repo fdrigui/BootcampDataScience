{
 "cells": [
  {
   "cell_type": "markdown",
   "id": "824235bc",
   "metadata": {},
   "source": [
    "<img src=\"img/BCTheme.png\">\n",
    "<h1><b><span style=\"color:#5C0040\">Módulo 01:</span></b> Python e pandas para análise de dados reais</h1>\n",
    " <a href=\"https://bootcamps.alura.com.br/course/bootcamp-datascience-modulo1\">Modulo 01: Boorcamp de DataScience Aplicada</a> \n",
    "<p>Neste módulo vamos aprender como utilizar <b>Python</b>, <b>Pandas</b> e <b>Matplotlib</b> para explorar os dados financeiros do SUS, mais precisamente os gastos por Unidade Federativa ao longo dos anos. Os desafios se iniciam na aquisição dos dados em uma plataforma do governo e seus possíveis problemas, passando pelo leitura destes dados com o Pandas até a criação de hipóteses na área da saúde, que sempre devem ser cuidadosas, simulando os desafios diários de uma pessoa cientista de dados.<p>\n",
    "<h1><b><span style=\"color:#5C0040\">Curso 01:</span></b> Python e pandas para análise de dados reais </h1>\n",
    "<p><b><span style=\"font-size:14pt\">Faça esse curso de Data Science e:</span></b><p>\n",
    "<ul>\n",
    "<li>Aprenda como utilizar Python e Pandas para analisar dados reais.</li>\n",
    "<li>Aprenda como ler dados reais com Pandas e os desafios de lidar com dados governamentais.</li>\n",
    "<li>Analise e explore os dados criando hipótese de forma analítica.</li>\n",
    "<li>Crie visualizações e aprenda boas práticas.</li>\n",
    "</ul>"
   ]
  },
  {
   "cell_type": "markdown",
   "id": "4182bf19",
   "metadata": {},
   "source": [
    "<h2><b><span style=\"color:#5C0040\">Aula 01:</span></b> Aquisição e leitura de dados reais</h2>"
   ]
  },
  {
   "cell_type": "markdown",
   "id": "72b6c0f8",
   "metadata": {},
   "source": [
    "<h2><b><span style=\"color:#5C0040\">Aula 02:</span></b> Primeiras visualizações de dados</h2>"
   ]
  },
  {
   "cell_type": "markdown",
   "id": "49337f44",
   "metadata": {},
   "source": [
    "<h2><b><span style=\"color:#5C0040\">Aula 03:</span></b> Manipulação de dados</h2>"
   ]
  },
  {
   "cell_type": "markdown",
   "id": "1ee2a12f",
   "metadata": {},
   "source": [
    "<h2><b><span style=\"color:#5C0040\">Aula 04:</span></b> Análise de dados e criação de hipótese</h2>"
   ]
  },
  {
   "cell_type": "markdown",
   "id": "41822ab1",
   "metadata": {},
   "source": [
    "<h2><b><span style=\"color:#5C0040\">Aula 05:</span></b> Manipulação e interpretação de gráficos</h2>"
   ]
  },
  {
   "cell_type": "code",
   "execution_count": null,
   "id": "d09eca67",
   "metadata": {},
   "outputs": [],
   "source": []
  }
 ],
 "metadata": {
  "kernelspec": {
   "display_name": "Python 3",
   "language": "python",
   "name": "python3"
  },
  "language_info": {
   "codemirror_mode": {
    "name": "ipython",
    "version": 3
   },
   "file_extension": ".py",
   "mimetype": "text/x-python",
   "name": "python",
   "nbconvert_exporter": "python",
   "pygments_lexer": "ipython3",
   "version": "3.8.8"
  },
  "toc-autonumbering": false,
  "toc-showcode": false,
  "toc-showmarkdowntxt": true
 },
 "nbformat": 4,
 "nbformat_minor": 5
}
