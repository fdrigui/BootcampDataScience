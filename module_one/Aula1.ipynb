{
 "cells": [
  {
   "cell_type": "markdown",
   "id": "blind-theorem",
   "metadata": {},
   "source": [
    "<a id='home'></a>\n",
    "<img src=\"img/BCTheme.png\"><br>\n",
    "<div style=\"text-align: right\"><b>Filipi Destro Rigui</b> | <a href=\"https://www.linkedin.com/in/filipirigui/\">LinkedIn</a> | <a href=\"https://github.com/fdrigui\">Github</a></div>\n",
    "\n",
    "| [Módulo 01](https://github.com/fdrigui/BootcampDataScience/blob/main/module_one/readme.md) | [Aula 02](https://github.com/fdrigui/BootcampDataScience/blob/main/module_one/Aula2.ipynb) |\n",
    "<h1><b><span style=\"color:#5C0040\">Aula 01:</span></b> Aquisição e leitura de dados reais</h1>\n"
   ]
  },
  {
   "cell_type": "markdown",
   "id": "killing-wedding",
   "metadata": {},
   "source": [
    "<a id='nota'></a>\n",
    "______________________________________\n",
    "<h2><b><span style=\"color:#5C0040\">Anotações:</span></b></h2>"
   ]
  },
  {
   "cell_type": "markdown",
   "id": "spoken-width",
   "metadata": {},
   "source": [
    "1. Antes de exportar os dados de um sistema, **pare** e **pense** na análise que se deseja fazer.\n",
    "O sistema **TABNET** represam muuuitoos dados relacionados ao sistema de saúde. Numero de internações, valor gasto,, por estado, por gestor do hospital, por cidade, etc...<br>\n",
    "Antes de sair baixando qualquer dado, é muito importante exercer a reflexão do que desejamos avaliar, entender, explorar, e somente após isso fazer encontrar uma maneira de pegar esses dados da fonte.\n",
    "2. Exportar as informações do sistema\n",
    "O arquivo **CSV** é um tipo de arquivo amplamente utilizado (mais não único), que consegue armazenar informações e ter um nível razoavelmente equilibrado entre quantidade de informações e tamanho do arquivo. Um arquivo **CSV**, pode ter como separador de informações **';'** (ponto e vírgula), **'/t'** (tabulação) e **','** (virgula).\n",
    "3. Abrindo o arquivo csv<br>\n",
    "\n",
    "```python\n",
    "import pandas as pd\n",
    "\n",
    "df_proc = pd.read_csv(filePath, sep=';', decimal=',', thousands='.', engine='python', encoding='ISO-8859-1', skiprows=3, skipfooter=12)\n",
    "```\n",
    "a função ```read_csv``` tem muitos parâmetros para auxiliar a configurar a leitura e interpretação do arquivo.\n",
    "\n",
    "4. Verificando inicio e fim do DataFrame<br>\n",
    "O método *head* mostra o topo, as 5 primeiras linhas de um DataFrame.\n",
    "```Python\n",
    "df_proc.head()\n",
    "```\n",
    "\n",
    "O método de *tail* mostra a base, as ultimas 5 linhas de um DataFrame.\n",
    "```Python\n",
    "df_proc.tail()\n",
    "```\n"
   ]
  },
  {
   "cell_type": "markdown",
   "id": "stuffed-accident",
   "metadata": {},
   "source": [
    "<a id='aula'></a>\n",
    "________________________________\n",
    "<h2><b><span style=\"color:#5C0040\">Aula:</span></b></h2>"
   ]
  },
  {
   "cell_type": "code",
   "execution_count": 1,
   "id": "organizational-laugh",
   "metadata": {},
   "outputs": [],
   "source": [
    "# Importação das biblíotecas relevantes para o projeto\n",
    "import pandas as pd\n",
    "import matplotlib.pyplot as plt\n",
    "import matplotlib.ticker as ticker\n",
    "import seaborn as sns\n",
    "plt.style.use('ggplot')\n",
    "pd.options.display.float_format = \"{:,.2f}\".format"
   ]
  },
  {
   "cell_type": "markdown",
   "id": "inner-hostel",
   "metadata": {},
   "source": [
    "> O DATASUS disponibiliza informações que podem servir para subsidiar  análises objetivas da situação sanitária, tomadas de decisão baseadas em evidências e elaboração de programas de ações de saúde.<br>\n",
    "Link para o [**DATASUS**](https://datasus.saude.gov.br/informacoes-de-saude-tabnet/)"
   ]
  },
  {
   "cell_type": "markdown",
   "id": "first-hollow",
   "metadata": {},
   "source": [
    "### Importação do *valor total dos procedimentos hospitalares do SUS por UF e mês de **processamento***\n",
    "\n",
    "**Informações da extração:**\n",
    "- [**Informações de Saúde(TABNET)**](http://www2.datasus.gov.br/DATASUS/index.php?area=0202&id=11633&VObj=http://tabnet.datasus.gov.br/cgi/deftohtm.exe?sih/cnv/qi)\n",
    "- **Localização:** Informações de Saúde(TABNET)/Assistência à Saúde/Dados Consolidados AIH (RD), por local de internação, a partir de 2008/Brasil por região e unidade de Federação\n",
    "- **Data:** 18-05-2021 22:35\n",
    "- **Linha:** Unidade da Federação\n",
    "- **Coluna:** Ano Mês processamento\n",
    "- **Conteúdo:** Valor Total\n",
    "- **Período:** *de:* Jan-2008 *até:* Mar-2021\n",
    "- **Nome do arquivo:** /dados/A223850189_28_143_208(proc).csv"
   ]
  },
  {
   "cell_type": "code",
   "execution_count": 2,
   "id": "automotive-antigua",
   "metadata": {},
   "outputs": [
    {
     "data": {
      "text/html": [
       "<div>\n",
       "<style scoped>\n",
       "    .dataframe tbody tr th:only-of-type {\n",
       "        vertical-align: middle;\n",
       "    }\n",
       "\n",
       "    .dataframe tbody tr th {\n",
       "        vertical-align: top;\n",
       "    }\n",
       "\n",
       "    .dataframe thead th {\n",
       "        text-align: right;\n",
       "    }\n",
       "</style>\n",
       "<table border=\"1\" class=\"dataframe\">\n",
       "  <thead>\n",
       "    <tr style=\"text-align: right;\">\n",
       "      <th></th>\n",
       "      <th>Unidade da Federação</th>\n",
       "      <th>2008/Jan</th>\n",
       "      <th>2008/Fev</th>\n",
       "      <th>2008/Mar</th>\n",
       "      <th>2008/Abr</th>\n",
       "      <th>2008/Mai</th>\n",
       "      <th>2008/Jun</th>\n",
       "      <th>2008/Jul</th>\n",
       "      <th>2008/Ago</th>\n",
       "      <th>2008/Set</th>\n",
       "      <th>...</th>\n",
       "      <th>2020/Jul</th>\n",
       "      <th>2020/Ago</th>\n",
       "      <th>2020/Set</th>\n",
       "      <th>2020/Out</th>\n",
       "      <th>2020/Nov</th>\n",
       "      <th>2020/Dez</th>\n",
       "      <th>2021/Jan</th>\n",
       "      <th>2021/Fev</th>\n",
       "      <th>2021/Mar</th>\n",
       "      <th>Total</th>\n",
       "    </tr>\n",
       "  </thead>\n",
       "  <tbody>\n",
       "    <tr>\n",
       "      <th>0</th>\n",
       "      <td>11 Rondônia</td>\n",
       "      <td>1,388,528.39</td>\n",
       "      <td>2,931,283.42</td>\n",
       "      <td>1,541,682.52</td>\n",
       "      <td>1,525,314.96</td>\n",
       "      <td>1,645,953.84</td>\n",
       "      <td>1,406,150.68</td>\n",
       "      <td>3,065,279.01</td>\n",
       "      <td>3,231,494.61</td>\n",
       "      <td>3,117,178.63</td>\n",
       "      <td>...</td>\n",
       "      <td>11,824,687.13</td>\n",
       "      <td>11,733,307.76</td>\n",
       "      <td>10,201,985.14</td>\n",
       "      <td>7,955,139.45</td>\n",
       "      <td>9,357,946.29</td>\n",
       "      <td>8,880,836.55</td>\n",
       "      <td>9,266,014.59</td>\n",
       "      <td>7,730,597.04</td>\n",
       "      <td>11,023,309.47</td>\n",
       "      <td>996,411,254.68</td>\n",
       "    </tr>\n",
       "    <tr>\n",
       "      <th>1</th>\n",
       "      <td>12 Acre</td>\n",
       "      <td>902,416.00</td>\n",
       "      <td>1,497,206.26</td>\n",
       "      <td>1,794,028.48</td>\n",
       "      <td>1,730,469.42</td>\n",
       "      <td>1,819,443.92</td>\n",
       "      <td>1,828,496.00</td>\n",
       "      <td>2,511,754.59</td>\n",
       "      <td>2,089,107.14</td>\n",
       "      <td>2,275,708.53</td>\n",
       "      <td>...</td>\n",
       "      <td>3,915,193.20</td>\n",
       "      <td>3,640,142.82</td>\n",
       "      <td>3,391,242.21</td>\n",
       "      <td>4,044,321.44</td>\n",
       "      <td>3,276,590.10</td>\n",
       "      <td>3,696,997.31</td>\n",
       "      <td>3,715,723.12</td>\n",
       "      <td>3,538,427.92</td>\n",
       "      <td>4,077,045.92</td>\n",
       "      <td>450,048,530.47</td>\n",
       "    </tr>\n",
       "    <tr>\n",
       "      <th>2</th>\n",
       "      <td>13 Amazonas</td>\n",
       "      <td>4,735,529.42</td>\n",
       "      <td>7,118,990.57</td>\n",
       "      <td>8,196,635.49</td>\n",
       "      <td>8,259,378.42</td>\n",
       "      <td>7,831,399.90</td>\n",
       "      <td>8,477,273.62</td>\n",
       "      <td>9,368,858.72</td>\n",
       "      <td>9,352,532.70</td>\n",
       "      <td>9,363,099.35</td>\n",
       "      <td>...</td>\n",
       "      <td>19,769,460.14</td>\n",
       "      <td>18,059,931.43</td>\n",
       "      <td>17,841,015.63</td>\n",
       "      <td>16,408,315.10</td>\n",
       "      <td>19,895,617.91</td>\n",
       "      <td>17,765,167.69</td>\n",
       "      <td>21,430,289.17</td>\n",
       "      <td>25,917,134.55</td>\n",
       "      <td>22,032,176.22</td>\n",
       "      <td>1,917,247,936.05</td>\n",
       "    </tr>\n",
       "    <tr>\n",
       "      <th>3</th>\n",
       "      <td>14 Roraima</td>\n",
       "      <td>657,889.53</td>\n",
       "      <td>777,939.31</td>\n",
       "      <td>718,688.03</td>\n",
       "      <td>839,994.39</td>\n",
       "      <td>862,347.96</td>\n",
       "      <td>832,440.66</td>\n",
       "      <td>996,693.09</td>\n",
       "      <td>894,271.18</td>\n",
       "      <td>910,424.17</td>\n",
       "      <td>...</td>\n",
       "      <td>3,015,488.30</td>\n",
       "      <td>2,826,486.18</td>\n",
       "      <td>2,928,043.91</td>\n",
       "      <td>3,090,313.73</td>\n",
       "      <td>3,621,031.05</td>\n",
       "      <td>3,454,460.94</td>\n",
       "      <td>3,266,928.47</td>\n",
       "      <td>3,519,773.73</td>\n",
       "      <td>3,985,530.08</td>\n",
       "      <td>328,876,965.09</td>\n",
       "    </tr>\n",
       "    <tr>\n",
       "      <th>4</th>\n",
       "      <td>15 Pará</td>\n",
       "      <td>18,864,744.11</td>\n",
       "      <td>19,553,758.20</td>\n",
       "      <td>21,937,342.70</td>\n",
       "      <td>20,842,829.69</td>\n",
       "      <td>23,249,952.88</td>\n",
       "      <td>23,240,687.56</td>\n",
       "      <td>24,002,223.56</td>\n",
       "      <td>23,341,218.03</td>\n",
       "      <td>25,172,261.32</td>\n",
       "      <td>...</td>\n",
       "      <td>40,804,126.43</td>\n",
       "      <td>44,385,715.88</td>\n",
       "      <td>36,820,249.47</td>\n",
       "      <td>36,965,931.34</td>\n",
       "      <td>39,004,315.80</td>\n",
       "      <td>38,015,145.79</td>\n",
       "      <td>38,354,682.46</td>\n",
       "      <td>37,688,314.23</td>\n",
       "      <td>33,276,392.89</td>\n",
       "      <td>4,705,309,002.29</td>\n",
       "    </tr>\n",
       "  </tbody>\n",
       "</table>\n",
       "<p>5 rows × 161 columns</p>\n",
       "</div>"
      ],
      "text/plain": [
       "  Unidade da Federação      2008/Jan      2008/Fev      2008/Mar  \\\n",
       "0          11 Rondônia  1,388,528.39  2,931,283.42  1,541,682.52   \n",
       "1              12 Acre    902,416.00  1,497,206.26  1,794,028.48   \n",
       "2          13 Amazonas  4,735,529.42  7,118,990.57  8,196,635.49   \n",
       "3           14 Roraima    657,889.53    777,939.31    718,688.03   \n",
       "4              15 Pará 18,864,744.11 19,553,758.20 21,937,342.70   \n",
       "\n",
       "       2008/Abr      2008/Mai      2008/Jun      2008/Jul      2008/Ago  \\\n",
       "0  1,525,314.96  1,645,953.84  1,406,150.68  3,065,279.01  3,231,494.61   \n",
       "1  1,730,469.42  1,819,443.92  1,828,496.00  2,511,754.59  2,089,107.14   \n",
       "2  8,259,378.42  7,831,399.90  8,477,273.62  9,368,858.72  9,352,532.70   \n",
       "3    839,994.39    862,347.96    832,440.66    996,693.09    894,271.18   \n",
       "4 20,842,829.69 23,249,952.88 23,240,687.56 24,002,223.56 23,341,218.03   \n",
       "\n",
       "       2008/Set  ...      2020/Jul      2020/Ago      2020/Set      2020/Out  \\\n",
       "0  3,117,178.63  ... 11,824,687.13 11,733,307.76 10,201,985.14  7,955,139.45   \n",
       "1  2,275,708.53  ...  3,915,193.20  3,640,142.82  3,391,242.21  4,044,321.44   \n",
       "2  9,363,099.35  ... 19,769,460.14 18,059,931.43 17,841,015.63 16,408,315.10   \n",
       "3    910,424.17  ...  3,015,488.30  2,826,486.18  2,928,043.91  3,090,313.73   \n",
       "4 25,172,261.32  ... 40,804,126.43 44,385,715.88 36,820,249.47 36,965,931.34   \n",
       "\n",
       "       2020/Nov      2020/Dez      2021/Jan      2021/Fev      2021/Mar  \\\n",
       "0  9,357,946.29  8,880,836.55  9,266,014.59  7,730,597.04 11,023,309.47   \n",
       "1  3,276,590.10  3,696,997.31  3,715,723.12  3,538,427.92  4,077,045.92   \n",
       "2 19,895,617.91 17,765,167.69 21,430,289.17 25,917,134.55 22,032,176.22   \n",
       "3  3,621,031.05  3,454,460.94  3,266,928.47  3,519,773.73  3,985,530.08   \n",
       "4 39,004,315.80 38,015,145.79 38,354,682.46 37,688,314.23 33,276,392.89   \n",
       "\n",
       "             Total  \n",
       "0   996,411,254.68  \n",
       "1   450,048,530.47  \n",
       "2 1,917,247,936.05  \n",
       "3   328,876,965.09  \n",
       "4 4,705,309,002.29  \n",
       "\n",
       "[5 rows x 161 columns]"
      ]
     },
     "execution_count": 2,
     "metadata": {},
     "output_type": "execute_result"
    }
   ],
   "source": [
    "# URL do arquivo CSV\n",
    "filePath = 'https://raw.githubusercontent.com/fdrigui/BootcampDataScience/main/module_one/dados/A223850189_28_143_208(proc).csv'\n",
    "\n",
    "# Abre arquivo\n",
    "df_proc = pd.read_csv(filePath, sep=';', decimal=',', thousands='.', engine='python', encoding='ISO-8859-1', skiprows=3, skipfooter=12)\n",
    "df_proc.head()"
   ]
  },
  {
   "cell_type": "markdown",
   "id": "opening-rouge",
   "metadata": {},
   "source": [
    "### Avaliação do tamanho do DF\n",
    "- O Brasil tem 26 Estados + Distrito Federal\n",
    "- de Janeiro/2008 até Março/2021 têm 13 (anos 2008 - 2020) * 12 (meses por ano) + 3 (Jan-Mar/2021) + 1 (coluna Total) + 1 (coluna Unidade da Federação)\n",
    "\n",
    "Deveríamos ter um DataFrame de 27 linhas x 161 colunas"
   ]
  },
  {
   "cell_type": "code",
   "execution_count": 3,
   "id": "editorial-adobe",
   "metadata": {},
   "outputs": [
    {
     "name": "stdout",
     "output_type": "stream",
     "text": [
      "O número de linhas e colunas: (27, 161)\n"
     ]
    }
   ],
   "source": [
    "print('O número de linhas e colunas: {}'.format(df_proc.shape))"
   ]
  },
  {
   "cell_type": "code",
   "execution_count": 4,
   "id": "mathematical-egyptian",
   "metadata": {},
   "outputs": [
    {
     "name": "stdout",
     "output_type": "stream",
     "text": [
      "<class 'pandas.core.frame.DataFrame'>\n",
      "RangeIndex: 27 entries, 0 to 26\n",
      "Columns: 161 entries, Unidade da Federação to Total\n",
      "dtypes: float64(159), object(2)\n",
      "memory usage: 34.1+ KB\n"
     ]
    }
   ],
   "source": [
    "# Outra maneira de fazer\n",
    "df_proc.info()"
   ]
  },
  {
   "cell_type": "markdown",
   "id": "acute-salem",
   "metadata": {},
   "source": [
    "### Existem dados nulos (NA)?\n",
    "É desejavel quue não tenhamos dados nulos em nossas tabelas, ou se tivermos, que saibamos quais são para futuro gedenciamento dos estudos"
   ]
  },
  {
   "cell_type": "code",
   "execution_count": 5,
   "id": "great-rebate",
   "metadata": {},
   "outputs": [
    {
     "name": "stdout",
     "output_type": "stream",
     "text": [
      "O número de células inválidas (NA) no DataFrame é: 0.\n"
     ]
    }
   ],
   "source": [
    "print('O número de células inválidas (NA) no DataFrame é: {}.'.format(df_proc.isna().sum().sum()))"
   ]
  },
  {
   "cell_type": "markdown",
   "id": "sized-queue",
   "metadata": {},
   "source": [
    "### Uma verificação rápida nos tipos de cada coluna.\n",
    "Espera-se que se tenha 1 colunatipo 'object', que é a Unidade Federativa e as demais tipo 'float' "
   ]
  },
  {
   "cell_type": "code",
   "execution_count": 6,
   "id": "express-unemployment",
   "metadata": {},
   "outputs": [
    {
     "data": {
      "text/plain": [
       "float64    159\n",
       "object       2\n",
       "dtype: int64"
      ]
     },
     "execution_count": 6,
     "metadata": {},
     "output_type": "execute_result"
    }
   ],
   "source": [
    "df_proc.dtypes.value_counts()"
   ]
  },
  {
   "cell_type": "code",
   "execution_count": 7,
   "id": "executed-patrol",
   "metadata": {},
   "outputs": [
    {
     "data": {
      "text/plain": [
       "Index(['Unidade da Federação', '2009/Set'], dtype='object')"
      ]
     },
     "execution_count": 7,
     "metadata": {},
     "output_type": "execute_result"
    }
   ],
   "source": [
    "df_proc.select_dtypes(include='object').columns"
   ]
  },
  {
   "cell_type": "markdown",
   "id": "reflected-atlas",
   "metadata": {},
   "source": [
    "Houveram 2 colunas tipo object, uma é a 'unidade da Federação', conforme esperado e outra é referente ao mês de 2009/set do  estado do Acre, que tem  um ífen (-) em vez de um valor tipo float.<br>\n",
    "Como essa coluna não vai ser utilizada para esse módulo, a mesma não será alterada."
   ]
  },
  {
   "cell_type": "code",
   "execution_count": 8,
   "id": "local-jones",
   "metadata": {},
   "outputs": [
    {
     "data": {
      "text/plain": [
       "Unidade da Federação    12 Acre\n",
       "2009/Set                      -\n",
       "Name: 1, dtype: object"
      ]
     },
     "execution_count": 8,
     "metadata": {},
     "output_type": "execute_result"
    }
   ],
   "source": [
    "df_proc[['Unidade da Federação', '2009/Set']].iloc[1]"
   ]
  },
  {
   "cell_type": "markdown",
   "id": "latin-benjamin",
   "metadata": {},
   "source": [
    "### Preparação dos dados"
   ]
  },
  {
   "cell_type": "markdown",
   "id": "contained-basin",
   "metadata": {},
   "source": [
    "### Altera '/' por '-' no nome da coluna\n",
    "'/' não é um caractere muito comum para se ter nos nomes das colunas."
   ]
  },
  {
   "cell_type": "code",
   "execution_count": 9,
   "id": "collective-catering",
   "metadata": {},
   "outputs": [],
   "source": [
    "df_proc.columns = df_proc.columns.str.replace('/', '-')"
   ]
  },
  {
   "cell_type": "markdown",
   "id": "christian-hepatitis",
   "metadata": {},
   "source": [
    "Nome da coluna 'Unidade da Federação'\n",
    "A Coluna com o nome 'Unidade da Federação' é demazindo grande, com acento e composto por dois conjuntos: **Código do UF** e **Unidade da Federação**.<br>\n",
    "Renomear de: ```Unidade da Federação``` para: ```uf_code_and_name```"
   ]
  },
  {
   "cell_type": "code",
   "execution_count": 10,
   "id": "caring-canada",
   "metadata": {},
   "outputs": [],
   "source": [
    "df_proc = df_proc.rename(columns={'Unidade da Federação':'uf_code_and_name'})"
   ]
  },
  {
   "cell_type": "markdown",
   "id": "diverse-layout",
   "metadata": {},
   "source": [
    "### Divide ```uf_name``` em ```código``` e ```unidade federativa```\n",
    "Divisão dos dois conjuntos de dados em ```uf_code_and_name``` em duas colunas distintas: ```uf_code``` e ```uf_name```"
   ]
  },
  {
   "cell_type": "code",
   "execution_count": 11,
   "id": "composite-bailey",
   "metadata": {},
   "outputs": [],
   "source": [
    "df_proc[['uf_code', 'uf_name']] = df_proc['uf_code_and_name'].str.split(' ',n=1, expand=True).rename(columns={0:'uf_code', 1:'uf_name'})"
   ]
  },
  {
   "cell_type": "markdown",
   "id": "detected-thumbnail",
   "metadata": {},
   "source": [
    "### Cria Dataframe de código de UF e UF\n",
    "para isso nós vamos utilizar uma lista de referencia utilizada [LINK](https://www.oobj.com.br/bc/article/quais-os-c%C3%B3digos-de-cada-uf-no-brasil-465.html)<br>\n",
    "Essa informação é importante pois os UFs não tem espaços, acentos, e são curtos, ficando melhor dispostos gráficamente.<br>\n",
    "O Dicionário foi criado na mão."
   ]
  },
  {
   "cell_type": "code",
   "execution_count": 12,
   "id": "massive-coating",
   "metadata": {},
   "outputs": [],
   "source": [
    "# Cria lista na mão dos códigos UF e os UFs\n",
    "uf_number_code = pd.DataFrame({\"uf_code\":[\"11\", \"12\", \"13\", \"14\", \"15\", \"16\", \"17\", \"21\", \"22\", \"23\", \"24\", \"25\", \"26\", \"27\",\n",
    "                                          \"28\", \"29\", \"31\", \"32\", \"33\", \"35\", \"41\", \"42\", \"43\", \"50\", \"51\", \"52\", \"53\"],\n",
    "                               \"uf\":[\"RO\", \"AC\", \"AM\", \"RR\", \"PA\", \"AP\", \"TO\", \"MA\", \"PI\", \"CE\", \"RN\", \"PB\", \"PE\", \"AL\",\n",
    "                                       \"SE\", \"BA\", \"MG\", \"ES\", \"RJ\", \"SP\", \"PR\", \"SC\", \"RS\", \"MS\", \"MT\", \"GO\", \"DF\"]})"
   ]
  },
  {
   "cell_type": "markdown",
   "id": "pending-hometown",
   "metadata": {},
   "source": [
    "### Cria coluna 'UF' com a abreviação\n",
    "Utilizando a coluna ```uf_code``` que tem códigos únicos para cada unidade federativa, fez-se um replace, subistituindo os números das unidades pelo seu código.<br>\n",
    "Ex:<br>\n",
    "**uf_name:** Rondônia;<br>**uf_code:** 11;<br>**uf:** RO;"
   ]
  },
  {
   "cell_type": "code",
   "execution_count": 13,
   "id": "peripheral-commission",
   "metadata": {},
   "outputs": [],
   "source": [
    "# Cria uma coluna com o código do UF\n",
    "df_proc['uf'] = df_proc['uf_code'].replace(uf_number_code['uf_code'].array,uf_number_code['uf'].array)\n",
    "\n",
    "# Cria uma coluna com o código do UF como cópia da anterior. Essa aqui vai se tornar o índice da tabela\n",
    "df_proc['uf_i'] = df_proc['uf']"
   ]
  },
  {
   "cell_type": "markdown",
   "id": "forward-crazy",
   "metadata": {},
   "source": [
    "### 2.5 Define ```df_proc['uf']``` como indice"
   ]
  },
  {
   "cell_type": "code",
   "execution_count": 14,
   "id": "functioning-wholesale",
   "metadata": {},
   "outputs": [
    {
     "data": {
      "text/html": [
       "<div>\n",
       "<style scoped>\n",
       "    .dataframe tbody tr th:only-of-type {\n",
       "        vertical-align: middle;\n",
       "    }\n",
       "\n",
       "    .dataframe tbody tr th {\n",
       "        vertical-align: top;\n",
       "    }\n",
       "\n",
       "    .dataframe thead th {\n",
       "        text-align: right;\n",
       "    }\n",
       "</style>\n",
       "<table border=\"1\" class=\"dataframe\">\n",
       "  <thead>\n",
       "    <tr style=\"text-align: right;\">\n",
       "      <th></th>\n",
       "      <th>uf_code_and_name</th>\n",
       "      <th>2008-Jan</th>\n",
       "      <th>2008-Fev</th>\n",
       "      <th>2008-Mar</th>\n",
       "      <th>2008-Abr</th>\n",
       "      <th>2008-Mai</th>\n",
       "      <th>2008-Jun</th>\n",
       "      <th>2008-Jul</th>\n",
       "      <th>2008-Ago</th>\n",
       "      <th>2008-Set</th>\n",
       "      <th>...</th>\n",
       "      <th>2020-Out</th>\n",
       "      <th>2020-Nov</th>\n",
       "      <th>2020-Dez</th>\n",
       "      <th>2021-Jan</th>\n",
       "      <th>2021-Fev</th>\n",
       "      <th>2021-Mar</th>\n",
       "      <th>Total</th>\n",
       "      <th>uf_code</th>\n",
       "      <th>uf_name</th>\n",
       "      <th>uf</th>\n",
       "    </tr>\n",
       "    <tr>\n",
       "      <th>uf_i</th>\n",
       "      <th></th>\n",
       "      <th></th>\n",
       "      <th></th>\n",
       "      <th></th>\n",
       "      <th></th>\n",
       "      <th></th>\n",
       "      <th></th>\n",
       "      <th></th>\n",
       "      <th></th>\n",
       "      <th></th>\n",
       "      <th></th>\n",
       "      <th></th>\n",
       "      <th></th>\n",
       "      <th></th>\n",
       "      <th></th>\n",
       "      <th></th>\n",
       "      <th></th>\n",
       "      <th></th>\n",
       "      <th></th>\n",
       "      <th></th>\n",
       "      <th></th>\n",
       "    </tr>\n",
       "  </thead>\n",
       "  <tbody>\n",
       "    <tr>\n",
       "      <th>RO</th>\n",
       "      <td>11 Rondônia</td>\n",
       "      <td>1,388,528.39</td>\n",
       "      <td>2,931,283.42</td>\n",
       "      <td>1,541,682.52</td>\n",
       "      <td>1,525,314.96</td>\n",
       "      <td>1,645,953.84</td>\n",
       "      <td>1,406,150.68</td>\n",
       "      <td>3,065,279.01</td>\n",
       "      <td>3,231,494.61</td>\n",
       "      <td>3,117,178.63</td>\n",
       "      <td>...</td>\n",
       "      <td>7,955,139.45</td>\n",
       "      <td>9,357,946.29</td>\n",
       "      <td>8,880,836.55</td>\n",
       "      <td>9,266,014.59</td>\n",
       "      <td>7,730,597.04</td>\n",
       "      <td>11,023,309.47</td>\n",
       "      <td>996,411,254.68</td>\n",
       "      <td>11</td>\n",
       "      <td>Rondônia</td>\n",
       "      <td>RO</td>\n",
       "    </tr>\n",
       "    <tr>\n",
       "      <th>AC</th>\n",
       "      <td>12 Acre</td>\n",
       "      <td>902,416.00</td>\n",
       "      <td>1,497,206.26</td>\n",
       "      <td>1,794,028.48</td>\n",
       "      <td>1,730,469.42</td>\n",
       "      <td>1,819,443.92</td>\n",
       "      <td>1,828,496.00</td>\n",
       "      <td>2,511,754.59</td>\n",
       "      <td>2,089,107.14</td>\n",
       "      <td>2,275,708.53</td>\n",
       "      <td>...</td>\n",
       "      <td>4,044,321.44</td>\n",
       "      <td>3,276,590.10</td>\n",
       "      <td>3,696,997.31</td>\n",
       "      <td>3,715,723.12</td>\n",
       "      <td>3,538,427.92</td>\n",
       "      <td>4,077,045.92</td>\n",
       "      <td>450,048,530.47</td>\n",
       "      <td>12</td>\n",
       "      <td>Acre</td>\n",
       "      <td>AC</td>\n",
       "    </tr>\n",
       "    <tr>\n",
       "      <th>AM</th>\n",
       "      <td>13 Amazonas</td>\n",
       "      <td>4,735,529.42</td>\n",
       "      <td>7,118,990.57</td>\n",
       "      <td>8,196,635.49</td>\n",
       "      <td>8,259,378.42</td>\n",
       "      <td>7,831,399.90</td>\n",
       "      <td>8,477,273.62</td>\n",
       "      <td>9,368,858.72</td>\n",
       "      <td>9,352,532.70</td>\n",
       "      <td>9,363,099.35</td>\n",
       "      <td>...</td>\n",
       "      <td>16,408,315.10</td>\n",
       "      <td>19,895,617.91</td>\n",
       "      <td>17,765,167.69</td>\n",
       "      <td>21,430,289.17</td>\n",
       "      <td>25,917,134.55</td>\n",
       "      <td>22,032,176.22</td>\n",
       "      <td>1,917,247,936.05</td>\n",
       "      <td>13</td>\n",
       "      <td>Amazonas</td>\n",
       "      <td>AM</td>\n",
       "    </tr>\n",
       "    <tr>\n",
       "      <th>RR</th>\n",
       "      <td>14 Roraima</td>\n",
       "      <td>657,889.53</td>\n",
       "      <td>777,939.31</td>\n",
       "      <td>718,688.03</td>\n",
       "      <td>839,994.39</td>\n",
       "      <td>862,347.96</td>\n",
       "      <td>832,440.66</td>\n",
       "      <td>996,693.09</td>\n",
       "      <td>894,271.18</td>\n",
       "      <td>910,424.17</td>\n",
       "      <td>...</td>\n",
       "      <td>3,090,313.73</td>\n",
       "      <td>3,621,031.05</td>\n",
       "      <td>3,454,460.94</td>\n",
       "      <td>3,266,928.47</td>\n",
       "      <td>3,519,773.73</td>\n",
       "      <td>3,985,530.08</td>\n",
       "      <td>328,876,965.09</td>\n",
       "      <td>14</td>\n",
       "      <td>Roraima</td>\n",
       "      <td>RR</td>\n",
       "    </tr>\n",
       "    <tr>\n",
       "      <th>PA</th>\n",
       "      <td>15 Pará</td>\n",
       "      <td>18,864,744.11</td>\n",
       "      <td>19,553,758.20</td>\n",
       "      <td>21,937,342.70</td>\n",
       "      <td>20,842,829.69</td>\n",
       "      <td>23,249,952.88</td>\n",
       "      <td>23,240,687.56</td>\n",
       "      <td>24,002,223.56</td>\n",
       "      <td>23,341,218.03</td>\n",
       "      <td>25,172,261.32</td>\n",
       "      <td>...</td>\n",
       "      <td>36,965,931.34</td>\n",
       "      <td>39,004,315.80</td>\n",
       "      <td>38,015,145.79</td>\n",
       "      <td>38,354,682.46</td>\n",
       "      <td>37,688,314.23</td>\n",
       "      <td>33,276,392.89</td>\n",
       "      <td>4,705,309,002.29</td>\n",
       "      <td>15</td>\n",
       "      <td>Pará</td>\n",
       "      <td>PA</td>\n",
       "    </tr>\n",
       "  </tbody>\n",
       "</table>\n",
       "<p>5 rows × 164 columns</p>\n",
       "</div>"
      ],
      "text/plain": [
       "     uf_code_and_name      2008-Jan      2008-Fev      2008-Mar      2008-Abr  \\\n",
       "uf_i                                                                            \n",
       "RO        11 Rondônia  1,388,528.39  2,931,283.42  1,541,682.52  1,525,314.96   \n",
       "AC            12 Acre    902,416.00  1,497,206.26  1,794,028.48  1,730,469.42   \n",
       "AM        13 Amazonas  4,735,529.42  7,118,990.57  8,196,635.49  8,259,378.42   \n",
       "RR         14 Roraima    657,889.53    777,939.31    718,688.03    839,994.39   \n",
       "PA            15 Pará 18,864,744.11 19,553,758.20 21,937,342.70 20,842,829.69   \n",
       "\n",
       "          2008-Mai      2008-Jun      2008-Jul      2008-Ago      2008-Set  \\\n",
       "uf_i                                                                         \n",
       "RO    1,645,953.84  1,406,150.68  3,065,279.01  3,231,494.61  3,117,178.63   \n",
       "AC    1,819,443.92  1,828,496.00  2,511,754.59  2,089,107.14  2,275,708.53   \n",
       "AM    7,831,399.90  8,477,273.62  9,368,858.72  9,352,532.70  9,363,099.35   \n",
       "RR      862,347.96    832,440.66    996,693.09    894,271.18    910,424.17   \n",
       "PA   23,249,952.88 23,240,687.56 24,002,223.56 23,341,218.03 25,172,261.32   \n",
       "\n",
       "      ...      2020-Out      2020-Nov      2020-Dez      2021-Jan  \\\n",
       "uf_i  ...                                                           \n",
       "RO    ...  7,955,139.45  9,357,946.29  8,880,836.55  9,266,014.59   \n",
       "AC    ...  4,044,321.44  3,276,590.10  3,696,997.31  3,715,723.12   \n",
       "AM    ... 16,408,315.10 19,895,617.91 17,765,167.69 21,430,289.17   \n",
       "RR    ...  3,090,313.73  3,621,031.05  3,454,460.94  3,266,928.47   \n",
       "PA    ... 36,965,931.34 39,004,315.80 38,015,145.79 38,354,682.46   \n",
       "\n",
       "          2021-Fev      2021-Mar            Total  uf_code   uf_name  uf  \n",
       "uf_i                                                                      \n",
       "RO    7,730,597.04 11,023,309.47   996,411,254.68       11  Rondônia  RO  \n",
       "AC    3,538,427.92  4,077,045.92   450,048,530.47       12      Acre  AC  \n",
       "AM   25,917,134.55 22,032,176.22 1,917,247,936.05       13  Amazonas  AM  \n",
       "RR    3,519,773.73  3,985,530.08   328,876,965.09       14   Roraima  RR  \n",
       "PA   37,688,314.23 33,276,392.89 4,705,309,002.29       15      Pará  PA  \n",
       "\n",
       "[5 rows x 164 columns]"
      ]
     },
     "execution_count": 14,
     "metadata": {},
     "output_type": "execute_result"
    }
   ],
   "source": [
    "df_proc = df_proc.set_index('uf_i')\n",
    "df_proc.head()"
   ]
  },
  {
   "cell_type": "markdown",
   "id": "exclusive-civilization",
   "metadata": {},
   "source": [
    "## Exploração dos dados.\n",
    "Nesse caso a exploração dos dados aconteceu por meio de gráficos.\n",
    "Para facilitar e rreaproveitar o código, foi criado uma função que imprime os dados na tela em um gráfico de barras, possíbilitando assim a redução de tempo na impressão de outros graficos com o mesmo formato.\n",
    "### Função de plot\n",
    "Função que padroniza e reaproveita o código para o plot dos resultados"
   ]
  },
  {
   "cell_type": "code",
   "execution_count": 15,
   "id": "mysterious-grade",
   "metadata": {},
   "outputs": [],
   "source": [
    "def plot_bar(xaxis, yaxis, data, title, xlabel, ylabel):\n",
    "    '''\n",
    "    Função plot_bar imprime na tela um gráfico padronizado do tipo de barras para cada mês\n",
    "    '''\n",
    "    plt.figure(figsize=(15,10))\n",
    "    ax = sns.barplot(x=xaxis, y=yaxis, data=data.sort_values(by=yaxis, ascending=False), color='#1696D2')\n",
    "    ax.set_title(title, fontsize=18, loc='left', family='Arial')\n",
    "    ax.set_xlabel(xlabel, fontsize=12, family='Arial', style='italic')\n",
    "    ax.set_ylabel(ylabel, fontsize=12, family='Arial', style='italic')\n",
    "    ax.grid(b=True, axis='y', color='#DEDDDD', which='major')\n",
    "    ax.spines['bottom'].set_visible(True)\n",
    "    ax.spines['bottom'].set_color('black')\n",
    "    ax.spines['bottom'].set_linewidth(1)\n",
    "    ax.set_facecolor('xkcd:white')\n",
    "    plt.yticks(fontname = \"Arial\", fontsize=12)\n",
    "    plt.xticks(fontname = \"Arial\", fontsize=12)\n",
    "    ticks_y = ticker.FuncFormatter(lambda x, pos: '{0:g}'.format(x/1e6))\n",
    "    ax.yaxis.set_major_formatter(ticks_y)\n",
    "    plt.show()"
   ]
  },
  {
   "cell_type": "code",
   "execution_count": 16,
   "id": "turned-transaction",
   "metadata": {},
   "outputs": [
    {
     "data": {
      "image/png": "[encoded data removed]",
      "text/plain": [
       "<Figure size 1080x720 with 1 Axes>"
      ]
     },
     "metadata": {},
     "output_type": "display_data"
    }
   ],
   "source": [
    "plot_bar(xaxis='uf', yaxis='2008-Jan', data=df_proc,\n",
    "         title='Valor, em Milhões de reais, de procedimentos processados pelo SUS em Janeiro/2008 por Unidades Federativas',\n",
    "         xlabel='Unidades Federativas', ylabel='Valor total processado (R$ Milhões)')"
   ]
  },
  {
   "cell_type": "markdown",
   "id": "standing-recovery",
   "metadata": {},
   "source": [
    "<a id='desafio'></a>\n",
    "____________________\n",
    "<h2><b><span style=\"color:#5C0040\">Desafio:</span></b></h2>"
   ]
  },
  {
   "cell_type": "markdown",
   "id": "protective-tablet",
   "metadata": {},
   "source": [
    "<h3><b><span style=\"color:#5C0040\">Desafio 01:</span></b> Escolher um título mais descritivo, que passe a mensagem adequada ao gráfico de barras.</h3>"
   ]
  },
  {
   "cell_type": "code",
   "execution_count": 17,
   "id": "suspended-bicycle",
   "metadata": {},
   "outputs": [
    {
     "data": {
      "image/png": "[encoded data removed]",
      "text/plain": [
       "<Figure size 1080x720 with 1 Axes>"
      ]
     },
     "metadata": {},
     "output_type": "display_data"
    }
   ],
   "source": [
    "plot_bar(xaxis='uf', yaxis='2008-Jan', data=df_proc,\n",
    "         title='Valor, em Milhões de reais, de procedimentos processados pelo SUS em Janeiro/2008 por Unidades Federativas',\n",
    "         xlabel='Unidades Federativas', ylabel='Valor total processado (R$ Milhões)')"
   ]
  },
  {
   "cell_type": "markdown",
   "id": "brutal-aircraft",
   "metadata": {},
   "source": [
    "<h3><b><span style=\"color:#5C0040\">Desafio 02:</span></b> Faça a mesma análise realizada em aula, porém para o mês mais recente.</h3>"
   ]
  },
  {
   "cell_type": "code",
   "execution_count": 18,
   "id": "linear-smell",
   "metadata": {},
   "outputs": [
    {
     "data": {
      "image/png": "[encoded data removed]",
      "text/plain": [
       "<Figure size 1080x720 with 1 Axes>"
      ]
     },
     "metadata": {},
     "output_type": "display_data"
    }
   ],
   "source": [
    "plot_bar(xaxis='uf', yaxis='2021-Mar', data=df_proc,\n",
    "         title='Valor, em Milhões de reais, de procedimentos processados pelo SUS em Março/2021 por Unidades Federativas',\n",
    "         xlabel='Unidades Federativas', ylabel='Valor total processado (R$ Milhões)')"
   ]
  },
  {
   "cell_type": "markdown",
   "id": "proved-phenomenon",
   "metadata": {},
   "source": [
    "___________________________________________________\n",
    "| [Home](#home) | [Aula 02](https://github.com/fdrigui/BootcampDataScience/blob/main/module_one/Aula2.ipynb) |"
   ]
  }
 ],
 "metadata": {
  "kernelspec": {
   "display_name": "Python 3",
   "language": "python",
   "name": "python3"
  },
  "language_info": {
   "codemirror_mode": {
    "name": "ipython",
    "version": 3
   },
   "file_extension": ".py",
   "mimetype": "text/x-python",
   "name": "python",
   "nbconvert_exporter": "python",
   "pygments_lexer": "ipython3",
   "version": "3.8.8"
  },
  "toc-autonumbering": false,
  "toc-showmarkdowntxt": false
 },
 "nbformat": 4,
 "nbformat_minor": 5
}
